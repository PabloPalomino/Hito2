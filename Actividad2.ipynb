{
 "cells": [
  {
   "cell_type": "markdown",
   "id": "fbd86540",
   "metadata": {},
   "source": [
    "# Cuestion 2 - WebScraping\n",
    "\n",
    "Selecciona una web en donde tengamos un formulario de login\n",
    "Diseña un código en Python para acceder al login y obtener código 200 en el login\n",
    "Explica qué code status responde la petición y qué significa"
   ]
  },
  {
   "cell_type": "code",
   "execution_count": 1,
   "id": "05fe6159",
   "metadata": {},
   "outputs": [
    {
     "name": "stdout",
     "output_type": "stream",
     "text": [
      "200\n"
     ]
    },
    {
     "data": {
      "text/plain": [
       "'https://images.chesscomfiles.com/uploads/ad_image/10149.ec98eaaa.png'"
      ]
     },
     "execution_count": 1,
     "metadata": {},
     "output_type": "execute_result"
    }
   ],
   "source": [
    "from bs4 import BeautifulSoup\n",
    "import requests\n",
    "\n",
    "# Start the session\n",
    "session = requests.Session()\n",
    "\n",
    "# Create the payload\n",
    "payload = {'_username':'[Pablo313131313]', \n",
    "          '_password':'[Abc123456*/*]'\n",
    "         }\n",
    "\n",
    "# Post the payload to the site to log in\n",
    "s = session.post(\"https://www.chess.com/login_check\", data=payload)\n",
    "\n",
    "# Navigate to the next page and scrape the data\n",
    "s = session.get('https://www.chess.com/today')\n",
    "print(s.status_code)\n",
    "soup = BeautifulSoup(s.text, 'html.parser')\n",
    "soup.find('img')['src']"
   ]
  },
  {
   "cell_type": "markdown",
   "id": "46b83466",
   "metadata": {},
   "source": [
    " El status code 200 es un código de estado que nos dice que la petición que acabamos de hacer ha sido entendida, enviada y recibida."
   ]
  }
 ],
 "metadata": {
  "kernelspec": {
   "display_name": "Python 3 (ipykernel)",
   "language": "python",
   "name": "python3"
  },
  "language_info": {
   "codemirror_mode": {
    "name": "ipython",
    "version": 3
   },
   "file_extension": ".py",
   "mimetype": "text/x-python",
   "name": "python",
   "nbconvert_exporter": "python",
   "pygments_lexer": "ipython3",
   "version": "3.9.7"
  }
 },
 "nbformat": 4,
 "nbformat_minor": 5
}
